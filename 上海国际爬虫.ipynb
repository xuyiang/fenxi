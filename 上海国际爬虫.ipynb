{
 "cells": [
  {
   "cell_type": "code",
   "execution_count": 77,
   "metadata": {},
   "outputs": [],
   "source": [
    "import requests\n",
    "import re\n",
    "import os\n",
    "from datetime import datetime\n",
    "from urllib.parse import urljoin, urlparse, parse_qs\n",
    "from bs4 import BeautifulSoup\n",
    "\n",
    "# 关键参数（从公告中提取）\n",
    "project_id = \"2305042190\"\n",
    "info_id = \"188600059995451\"\n",
    "\n",
    "# 方案1：直接构造PDF URL（成功率60%）\n",
    "pdf_url = f\"https://www.shabidding.com/ekp/resource/pdfjs/web/viewer.html?file=%2Fekp%2Fresource%2Fattachment%2Fsys_att_main%2FsysAttMain.do%3Fmethod%3Ddownload%26fdId%3D197539029e1051cce11abbc44a5be0c3\"\n",
    "\n",
    "# 方案2：通过查看器页面解析（更可靠）\n",
    "viewer_url = f\"https://www.shabidding.com/ekp/resource/build/pdf/web/viewer.html?file={project_id}.pdf\"\n",
    "\n"
   ]
  },
  {
   "cell_type": "code",
   "execution_count": 78,
   "metadata": {},
   "outputs": [],
   "source": [
    "storethis=\"https://www.shabidding.com/ekp/resource/attachment/sys_att_main/sysAttMain.do?method=download&fdId=197539029e1051cce11abbc44a5be0c3\"\n",
    "\n",
    "\n",
    "\n",
    "\n",
    "\n"
   ]
  },
  {
   "cell_type": "code",
   "execution_count": null,
   "metadata": {},
   "outputs": [],
   "source": []
  },
  {
   "cell_type": "code",
   "execution_count": 79,
   "metadata": {},
   "outputs": [],
   "source": [
    "from urllib.parse import unquote, urlparse, parse_qs, urljoin\n",
    "\n",
    "def extract_pdf_url(viewer_url):\n",
    "    \n",
    "    try:\n",
    "        \n",
    "        parsed = urlparse(viewer_url)\n",
    "        query = parse_qs(parsed.query)\n",
    "        \n",
    "        \n",
    "        if 'file' not in query:\n",
    "            raise ValueError(\"URL 中缺少 file 参数\")\n",
    "        \n",
    "        encoded_path = query['file'][0]\n",
    "        \n",
    "        # 解码路径\n",
    "        decoded_path = unquote(encoded_path)\n",
    "        \n",
    "        # 构建基础 URL\n",
    "        base_url = f\"{parsed.scheme}://{parsed.netloc}\"\n",
    "        \n",
    "        # 返回完整 PDF URL\n",
    "        return urljoin(base_url, decoded_path)\n",
    "    \n",
    "    except Exception as e:\n",
    "        print(f\"解析失败: {e}\")\n",
    "        return None"
   ]
  },
  {
   "cell_type": "code",
   "execution_count": 80,
   "metadata": {},
   "outputs": [
    {
     "name": "stdout",
     "output_type": "stream",
     "text": [
      "https://www.shabidding.com/ekp/resource/attachment/sys_att_main/sysAttMain.do?method=download&fdId=197539029e1051cce11abbc44a5be0c3\n"
     ]
    }
   ],
   "source": [
    "viewer_url=\"https://www.shabidding.com/ekp/resource/pdfjs/web/viewer.html?file=%2Fekp%2Fresource%2Fattachment%2Fsys_att_main%2FsysAttMain.do%3Fmethod%3Ddownload%26fdId%3D197539029e1051cce11abbc44a5be0c3\"\n",
    "pdf_url = extract_pdf_url(viewer_url)\n",
    "print(pdf_url)\n"
   ]
  },
  {
   "cell_type": "code",
   "execution_count": 81,
   "metadata": {},
   "outputs": [],
   "source": [
    "import os\n",
    "import requests\n",
    "import pdfplumber\n",
    "from urllib.parse import urlparse\n",
    "\n",
    "def download_pdf(url, save_path=None):\n",
    "    \"\"\"\n",
    "    从URL下载PDF文件\n",
    "    :param url: PDF文件的URL地址\n",
    "    :param save_path: 可选的自定义保存路径\n",
    "    :return: 下载文件的本地路径\n",
    "    \"\"\"\n",
    "    try:\n",
    "        response = requests.get(url, stream=True)\n",
    "        response.raise_for_status()  # 检查HTTP错误\n",
    "\n",
    "        # 生成一个有意义的PDF文件名\n",
    "        parsed_url = urlparse(url)\n",
    "        query_params = parse_qs(parsed_url.query)\n",
    "        \n",
    "        # 如果URL中有fdId参数，使用它作为文件名的一部分\n",
    "        if 'fdId' in query_params:\n",
    "            filename = f\"document_{query_params['fdId'][0]}.pdf\"\n",
    "        else:\n",
    "            # 如果没有fdId，使用时间戳作为文件名\n",
    "            from datetime import datetime\n",
    "            timestamp = datetime.now().strftime(\"%Y%m%d_%H%M%S\")\n",
    "            filename = f\"document_{timestamp}.pdf\"\n",
    "        \n",
    "        # 设置默认保存路径（当前目录）\n",
    "        if not save_path:\n",
    "            save_path = os.path.join(os.getcwd(), filename)\n",
    "        else:\n",
    "            save_path = os.path.join(save_path, filename)\n",
    "        \n",
    "        # 保存PDF文件\n",
    "        with open(save_path, 'wb') as f:\n",
    "            for chunk in response.iter_content(chunk_size=8192):\n",
    "                f.write(chunk)\n",
    "                \n",
    "        print(f\"PDF下载成功: {save_path}\")\n",
    "        return save_path\n",
    "        \n",
    "    except Exception as e:\n",
    "        print(f\"下载失败: {e}\")\n",
    "        return None\n",
    "\n",
    "def extract_text_from_pdf(pdf_path):\n",
    "    \"\"\"\n",
    "    从PDF文件中提取文本\n",
    "    :param pdf_path: PDF文件本地路径\n",
    "    :return: 提取的文本内容\n",
    "    \"\"\"\n",
    "    try:\n",
    "        import PyPDF2\n",
    "        \n",
    "        full_text = []\n",
    "        with open(pdf_path, 'rb') as file:\n",
    "            # 创建 PDF 读取器对象\n",
    "            pdf_reader = PyPDF2.PdfReader(file)\n",
    "            \n",
    "            # 遍历每一页\n",
    "            for page in pdf_reader.pages:\n",
    "                text = page.extract_text()\n",
    "                if text:\n",
    "                    full_text.append(text)\n",
    "        \n",
    "        # 合并所有文本\n",
    "        text = '\\n'.join(full_text)\n",
    "        \n",
    "        # 如果使用 PyPDF2 提取失败，尝试使用 pdfplumber\n",
    "        if not text or text.count('cid:') > len(text) / 10:  # 如果CID太多，认为提取失败\n",
    "            print(\"PyPDF2提取失败，尝试使用pdfplumber...\")\n",
    "            with pdfplumber.open(pdf_path) as pdf:\n",
    "                full_text = []\n",
    "                for page in pdf.pages:\n",
    "                    text = page.extract_text()\n",
    "                    if text:\n",
    "                        full_text.append(text)\n",
    "                text = '\\n'.join(full_text)\n",
    "        \n",
    "        return text\n",
    "    \n",
    "    except Exception as e:\n",
    "        print(f\"文本提取失败: {e}\")\n",
    "        return None\n",
    "\n",
    "def save_text_to_file(text, output_path=None):\n",
    "    \"\"\"\n",
    "    将文本保存到文件\n",
    "    :param text: 要保存的文本内容\n",
    "    :param output_path: 可选的自定义输出路径\n",
    "    \"\"\"\n",
    "    if not text:\n",
    "        print(\"无文本内容可保存\")\n",
    "        return False\n",
    "    \n",
    "    # 设置默认输出文件名\n",
    "    if not output_path:\n",
    "        output_path = \"extracted_text.txt\"\n",
    "    \n",
    "    try:\n",
    "        with open(output_path, 'w', encoding='utf-8') as f:\n",
    "            f.write(text)\n",
    "        print(f\"文本已保存至: {output_path}\")\n",
    "        return True\n",
    "    except Exception as e:\n",
    "        print(f\"保存失败: {e}\")\n",
    "        return False\n",
    "\n",
    "def pdf_to_text_pipeline(pdf_url, output_dir=None):\n",
    "    \"\"\"\n",
    "    完整的PDF处理Pipeline\n",
    "    :param pdf_url: PDF文件的URL\n",
    "    :param output_dir: 可选的自定义输出目录\n",
    "    \"\"\"\n",
    "    # 创建输出目录（如果不存在）\n",
    "    if output_dir and not os.path.exists(output_dir):\n",
    "        os.makedirs(output_dir)\n",
    "    \n",
    "    # 步骤1: 下载PDF\n",
    "    pdf_path = download_pdf(pdf_url, save_path=output_dir)\n",
    "    if not pdf_path:\n",
    "        return False\n",
    "    \n",
    "    # 步骤2: 提取文本\n",
    "    extracted_text = extract_text_from_pdf(pdf_path)\n",
    "    if not extracted_text:\n",
    "        return False\n",
    "    \n",
    "    # 步骤3: 保存文本\n",
    "    if output_dir:\n",
    "        txt_filename = os.path.splitext(os.path.basename(pdf_path))[0] + \".txt\"\n",
    "        output_path = os.path.join(output_dir, txt_filename)\n",
    "    else:\n",
    "        output_path = None\n",
    "    \n",
    "    return save_text_to_file(extracted_text, output_path)"
   ]
  },
  {
   "cell_type": "code",
   "execution_count": 82,
   "metadata": {},
   "outputs": [
    {
     "name": "stdout",
     "output_type": "stream",
     "text": [
      "PDF下载成功: d:\\zhuomian\\fenxi\\document_197539029e1051cce11abbc44a5be0c3.pdf\n"
     ]
    },
    {
     "data": {
      "text/plain": [
       "'d:\\\\zhuomian\\\\fenxi\\\\document_197539029e1051cce11abbc44a5be0c3.pdf'"
      ]
     },
     "execution_count": 82,
     "metadata": {},
     "output_type": "execute_result"
    }
   ],
   "source": [
    "download_pdf(pdf_url)"
   ]
  },
  {
   "cell_type": "code",
   "execution_count": 83,
   "metadata": {},
   "outputs": [
    {
     "name": "stdout",
     "output_type": "stream",
     "text": [
      "Extracted text preview:\n",
      "/0/1/2/3/4/5/6/7/8/9/10/11/12/13/14/15/16/17/18/19/20/21/22/23/24/25/23/24/26/27/28\n",
      "/29 /30 /31 /32 /31 /33 /29 /34 /35 /31 /36/21/22/37/38/i255\n",
      "/40/41/42 /43/44/45 /i255 /45/47/48/49/50/51/52 /i255 /53/54/55 /i255 /56 /57 /56 /58 /59 /57 /60 /59 /57 /61/i255 /62/63 /i255 /64/65/66/67\n",
      "/68 /69/70/71 /72 /73 /72 /74 /75 /73 /76 /75 /73 /77 /78/79/80 /81/82 /83 /83 /76 /76 /77 /73 /74 /77 /77 /77 /74 /76 /84 /83 /82\n",
      "/21 /22/85/86 /87/88/89/90/91 /92/93/89/90 /78/79/85/86 /89/90/66/67\n",
      "/21/22/5 /94/9\n"
     ]
    }
   ],
   "source": [
    "# Try extracting text with the improved function\n",
    "pdf_path = \"document_197539029e1051cce11abbc44a5be0c3.pdf\"\n",
    "extracted_text = extract_text_from_pdf(pdf_path)\n",
    "\n",
    "# Print the first 500 characters to check the result\n",
    "print(\"Extracted text preview:\")\n",
    "print(extracted_text[:500] if extracted_text else \"No text extracted\")\n"
   ]
  },
  {
   "cell_type": "code",
   "execution_count": null,
   "metadata": {},
   "outputs": [],
   "source": []
  },
  {
   "cell_type": "code",
   "execution_count": 84,
   "metadata": {},
   "outputs": [
    {
     "name": "stdout",
     "output_type": "stream",
     "text": [
      "Current working directory: d:\\zhuomian\\fenxi\n",
      "文本已保存至: d:\\zhuomian\\fenxi\\extracted_text.txt\n"
     ]
    },
    {
     "data": {
      "text/plain": [
       "True"
      ]
     },
     "execution_count": 84,
     "metadata": {},
     "output_type": "execute_result"
    }
   ],
   "source": [
    "# Try saving in the current working directory first\n",
    "current_dir = os.getcwd()\n",
    "print(f\"Current working directory: {current_dir}\")\n",
    "\n",
    "# Extract text from PDF\n",
    "pdf_path = \"document_197539029e1051cce11abbc44a5be0c3.pdf\"\n",
    "extracted_text = extract_text_from_pdf(pdf_path)\n",
    "\n",
    "# Save in the current directory\n",
    "output_file_path = os.path.join(current_dir, \"extracted_text.txt\")\n",
    "save_text_to_file(extracted_text, output_path=output_file_path)\n"
   ]
  },
  {
   "cell_type": "code",
   "execution_count": null,
   "metadata": {},
   "outputs": [],
   "source": []
  },
  {
   "cell_type": "code",
   "execution_count": null,
   "metadata": {},
   "outputs": [],
   "source": []
  },
  {
   "cell_type": "code",
   "execution_count": null,
   "metadata": {},
   "outputs": [],
   "source": []
  }
 ],
 "metadata": {
  "kernelspec": {
   "display_name": "Python 3",
   "language": "python",
   "name": "python3"
  },
  "language_info": {
   "codemirror_mode": {
    "name": "ipython",
    "version": 3
   },
   "file_extension": ".py",
   "mimetype": "text/x-python",
   "name": "python",
   "nbconvert_exporter": "python",
   "pygments_lexer": "ipython3",
   "version": "3.12.8"
  }
 },
 "nbformat": 4,
 "nbformat_minor": 2
}
